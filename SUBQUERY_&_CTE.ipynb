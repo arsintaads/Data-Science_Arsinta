{
  "cells": [
    {
      "cell_type": "markdown",
      "metadata": {
        "id": "view-in-github",
        "colab_type": "text"
      },
      "source": [
        "<a href=\"https://colab.research.google.com/github/arsintaads/Data-Science_Arsinta/blob/main/SUBQUERY_%26_CTE.ipynb\" target=\"_parent\"><img src=\"https://colab.research.google.com/assets/colab-badge.svg\" alt=\"Open In Colab\"/></a>"
      ]
    },
    {
      "cell_type": "markdown",
      "metadata": {
        "id": "0m3ioioeWlxT"
      },
      "source": [
        "# <b>A. <span style='color:#0B2F9F'><code>SUB-QUERY</code></span></b>\n",
        "Subquery adalah sebuah query (pernyataan SQL) yang terletak di dalam query lain. Subquery dapat digunakan untuk mengambil data yang kemudian akan digunakan oleh query utama.<br><br>"
      ]
    },
    {
      "cell_type": "markdown",
      "metadata": {
        "id": "Jm2FSN4zWlxX"
      },
      "source": [
        "#### <i><b><span style='color:#55679C'>Quest</span> : Pada tabel customer_demography, hitung rata-rata umur customer dan bulatkan ke dua  desimal!</b></i>"
      ]
    },
    {
      "cell_type": "code",
      "execution_count": null,
      "metadata": {
        "id": "TE7xwNNHWlxY",
        "outputId": "044627c0-7a1a-4a2f-a674-0012da38b8cd"
      },
      "outputs": [
        {
          "data": {
            "text/html": [
              "<style type=\"text/css\">\n",
              "</style>\n",
              "<table id=\"T_0789f\">\n",
              "  <thead>\n",
              "    <tr>\n",
              "      <th id=\"T_0789f_level0_col0\" class=\"col_heading level0 col0\" >avg_age</th>\n",
              "    </tr>\n",
              "  </thead>\n",
              "  <tbody>\n",
              "    <tr>\n",
              "      <td id=\"T_0789f_row0_col0\" class=\"data row0 col0\" >46.51</td>\n",
              "    </tr>\n",
              "  </tbody>\n",
              "</table>\n"
            ],
            "text/plain": [
              "<pandas.io.formats.style.Styler at 0x13804a7d0>"
            ]
          },
          "metadata": {},
          "output_type": "display_data"
        }
      ],
      "source": [
        "#SELECT ROUND(AVG(age), 2) AS avg_age FROM Telco_churn.customer_demography"
      ]
    },
    {
      "cell_type": "markdown",
      "metadata": {
        "id": "aFq2OElxWlxZ"
      },
      "source": [
        "#### <i><b><span style='color:#55679C'>Quest</span> : Pada tabel customer_demography, tampilkan customer_id, age dan gendernya dimana umur customer tersebut lebih dari rata-rata umur customer secara keseluruhan!</b></i>"
      ]
    },
    {
      "cell_type": "code",
      "source": [
        "#SELECT customer_id, age, gender FROM telco_churn.customer_demography WHERE age > (SELECT AVG(age) FROM telco_churn.customer_demography);"
      ],
      "metadata": {
        "id": "0EmpGEYxbY_4"
      },
      "execution_count": null,
      "outputs": []
    },
    {
      "cell_type": "markdown",
      "metadata": {
        "id": "1WyJDllYWlxZ"
      },
      "source": [
        "#### <i><b><span style='color:#55679C'>Quest</span> : Pada tabel customer_demography, ada berapa customer yang lebih dari rata-rata umur customer secara keseluruhan?</b></i>"
      ]
    },
    {
      "cell_type": "code",
      "source": [
        "#SELECT COUNT(*) FROM telco_churn.customer_demography WHERE age > (SELECT ROUND(AVG(age), 2) FROM telco_churn.customer_demography);"
      ],
      "metadata": {
        "id": "oVdJ0sF96l4U"
      },
      "execution_count": null,
      "outputs": []
    },
    {
      "cell_type": "markdown",
      "metadata": {
        "id": "g8iOjy1PWlxa"
      },
      "source": [
        "#### <i><b><span style='color:#55679C'>Quest</span> : Pada tabel customer_demography, berapa usia termuda dan tertua customer yang lebih dari rata-rata umur customer secara keseluruhan?</b></i>"
      ]
    },
    {
      "cell_type": "code",
      "source": [
        "#SELECT MIN(age) AS youngest_age, MAX(age) AS oldest_age FROM telco_churn.customer_demography WHERE age > (SELECT AVG(age) FROM telco_churn.customer_demography);"
      ],
      "metadata": {
        "id": "EIDOscoi6mgW"
      },
      "execution_count": null,
      "outputs": []
    },
    {
      "cell_type": "markdown",
      "metadata": {
        "id": "JlAutDKgWlxb"
      },
      "source": [
        "#### <i><b><span style='color:#55679C'>Quest</span> : Pada tabel customer_status, tampilkan semua data dengan cltv kurang dari atau sama dengan rata-rata cltv customer secara keseluruhan dan statusnya selain Churned?</b></i>"
      ]
    },
    {
      "cell_type": "markdown",
      "metadata": {
        "id": "c3UG6LyhWlxb"
      },
      "source": [
        "#### <i><b><span style='color:#55679C'>Quest</span> : Pada tabel customer_status, Hitung besarnya presentase setiap status yang ada dan juga jumlah customer tiap statusnya!</b></i>"
      ]
    },
    {
      "cell_type": "code",
      "execution_count": null,
      "metadata": {
        "id": "7EpxpZdwWlxb",
        "outputId": "4ef7ffdc-3328-4c09-e9c5-9beca8a09215"
      },
      "outputs": [
        {
          "data": {
            "text/html": [
              "<style type=\"text/css\">\n",
              "</style>\n",
              "<table id=\"T_4361e\">\n",
              "  <thead>\n",
              "    <tr>\n",
              "      <th id=\"T_4361e_level0_col0\" class=\"col_heading level0 col0\" >status</th>\n",
              "      <th id=\"T_4361e_level0_col1\" class=\"col_heading level0 col1\" >total_customer</th>\n",
              "      <th id=\"T_4361e_level0_col2\" class=\"col_heading level0 col2\" >percentage</th>\n",
              "    </tr>\n",
              "  </thead>\n",
              "  <tbody>\n",
              "    <tr>\n",
              "      <td id=\"T_4361e_row0_col0\" class=\"data row0 col0\" >Churned</td>\n",
              "      <td id=\"T_4361e_row0_col1\" class=\"data row0 col1\" >1869</td>\n",
              "      <td id=\"T_4361e_row0_col2\" class=\"data row0 col2\" >26.54</td>\n",
              "    </tr>\n",
              "    <tr>\n",
              "      <td id=\"T_4361e_row1_col0\" class=\"data row1 col0\" >Joined</td>\n",
              "      <td id=\"T_4361e_row1_col1\" class=\"data row1 col1\" >454</td>\n",
              "      <td id=\"T_4361e_row1_col2\" class=\"data row1 col2\" >6.45</td>\n",
              "    </tr>\n",
              "    <tr>\n",
              "      <td id=\"T_4361e_row2_col0\" class=\"data row2 col0\" >Stayed</td>\n",
              "      <td id=\"T_4361e_row2_col1\" class=\"data row2 col1\" >4720</td>\n",
              "      <td id=\"T_4361e_row2_col2\" class=\"data row2 col2\" >67.02</td>\n",
              "    </tr>\n",
              "  </tbody>\n",
              "</table>\n"
            ],
            "text/plain": [
              "<pandas.io.formats.style.Styler at 0x1d7ff9e4a90>"
            ]
          },
          "metadata": {},
          "output_type": "display_data"
        }
      ],
      "source": [
        "SELECT\n",
        "  status,\n",
        "  COUNT(customer_id) AS total_customer,\n",
        "  ROUND(100 * COUNT(customer_id)/(SELECT COUNT(customer_id) FROM telco_churn.customer_status), 2) AS persentase\n",
        "FROM telco_churn.customer_status\n",
        "GROUP BY status;"
      ]
    },
    {
      "cell_type": "markdown",
      "metadata": {
        "id": "1p6VZrcgWlxb"
      },
      "source": [
        "# <b>B. <span style='color:#0B2F9F'><code>CTE</code></span></b>\n",
        "CTE, atau Common Table Expression, adalah fitur dalam SQL yang memungkinkan Anda untuk mendefinisikan sebuah query sementara yang dapat digunakan dalam query lain. CTE membantu dalam membuat query lebih mudah dibaca dan dipelihara, serta memungkinkan penggunaan rekursi dalam query.\n",
        "\n",
        "<img src=\"https://learnsql.com/blog/sql-common-table-expression-guide/cte_syntax_example.webp\" width=\"50%\">"
      ]
    },
    {
      "cell_type": "markdown",
      "metadata": {
        "id": "qUmWkipBWlxc"
      },
      "source": [
        "#### <i><b><span style='color:#55679C'>Quest</span> : Hitung jumlah customer pada masing - masing offer & jenis contract!</b></i> (Belum Penerapan CTE)"
      ]
    },
    {
      "cell_type": "code",
      "execution_count": null,
      "metadata": {
        "id": "HFtDJ6FOWlxc",
        "outputId": "5f1e22ce-6ade-4d30-8a23-cabcb5e1fe7a"
      },
      "outputs": [
        {
          "data": {
            "text/html": [
              "<style type=\"text/css\">\n",
              "</style>\n",
              "<table id=\"T_fb04f\">\n",
              "  <thead>\n",
              "    <tr>\n",
              "      <th id=\"T_fb04f_level0_col0\" class=\"col_heading level0 col0\" >offer</th>\n",
              "      <th id=\"T_fb04f_level0_col1\" class=\"col_heading level0 col1\" >contract</th>\n",
              "      <th id=\"T_fb04f_level0_col2\" class=\"col_heading level0 col2\" >total_customer</th>\n",
              "    </tr>\n",
              "  </thead>\n",
              "  <tbody>\n",
              "    <tr>\n",
              "      <td id=\"T_fb04f_row0_col0\" class=\"data row0 col0\" >Offer A</td>\n",
              "      <td id=\"T_fb04f_row0_col1\" class=\"data row0 col1\" >Month-to-Month</td>\n",
              "      <td id=\"T_fb04f_row0_col2\" class=\"data row0 col2\" >15</td>\n",
              "    </tr>\n",
              "    <tr>\n",
              "      <td id=\"T_fb04f_row1_col0\" class=\"data row1 col0\" >Offer A</td>\n",
              "      <td id=\"T_fb04f_row1_col1\" class=\"data row1 col1\" >One Year</td>\n",
              "      <td id=\"T_fb04f_row1_col2\" class=\"data row1 col2\" >97</td>\n",
              "    </tr>\n",
              "    <tr>\n",
              "      <td id=\"T_fb04f_row2_col0\" class=\"data row2 col0\" >Offer A</td>\n",
              "      <td id=\"T_fb04f_row2_col1\" class=\"data row2 col1\" >Two Year</td>\n",
              "      <td id=\"T_fb04f_row2_col2\" class=\"data row2 col2\" >408</td>\n",
              "    </tr>\n",
              "    <tr>\n",
              "      <td id=\"T_fb04f_row3_col0\" class=\"data row3 col0\" >Offer B</td>\n",
              "      <td id=\"T_fb04f_row3_col1\" class=\"data row3 col1\" >Month-to-Month</td>\n",
              "      <td id=\"T_fb04f_row3_col2\" class=\"data row3 col2\" >216</td>\n",
              "    </tr>\n",
              "    <tr>\n",
              "      <td id=\"T_fb04f_row4_col0\" class=\"data row4 col0\" >Offer B</td>\n",
              "      <td id=\"T_fb04f_row4_col1\" class=\"data row4 col1\" >One Year</td>\n",
              "      <td id=\"T_fb04f_row4_col2\" class=\"data row4 col2\" >317</td>\n",
              "    </tr>\n",
              "    <tr>\n",
              "      <td id=\"T_fb04f_row5_col0\" class=\"data row5 col0\" >Offer B</td>\n",
              "      <td id=\"T_fb04f_row5_col1\" class=\"data row5 col1\" >Two Year</td>\n",
              "      <td id=\"T_fb04f_row5_col2\" class=\"data row5 col2\" >291</td>\n",
              "    </tr>\n",
              "    <tr>\n",
              "      <td id=\"T_fb04f_row6_col0\" class=\"data row6 col0\" >Offer C</td>\n",
              "      <td id=\"T_fb04f_row6_col1\" class=\"data row6 col1\" >Month-to-Month</td>\n",
              "      <td id=\"T_fb04f_row6_col2\" class=\"data row6 col2\" >203</td>\n",
              "    </tr>\n",
              "    <tr>\n",
              "      <td id=\"T_fb04f_row7_col0\" class=\"data row7 col0\" >Offer C</td>\n",
              "      <td id=\"T_fb04f_row7_col1\" class=\"data row7 col1\" >One Year</td>\n",
              "      <td id=\"T_fb04f_row7_col2\" class=\"data row7 col2\" >143</td>\n",
              "    </tr>\n",
              "    <tr>\n",
              "      <td id=\"T_fb04f_row8_col0\" class=\"data row8 col0\" >Offer C</td>\n",
              "      <td id=\"T_fb04f_row8_col1\" class=\"data row8 col1\" >Two Year</td>\n",
              "      <td id=\"T_fb04f_row8_col2\" class=\"data row8 col2\" >69</td>\n",
              "    </tr>\n",
              "    <tr>\n",
              "      <td id=\"T_fb04f_row9_col0\" class=\"data row9 col0\" >Offer D</td>\n",
              "      <td id=\"T_fb04f_row9_col1\" class=\"data row9 col1\" >Month-to-Month</td>\n",
              "      <td id=\"T_fb04f_row9_col2\" class=\"data row9 col2\" >434</td>\n",
              "    </tr>\n",
              "    <tr>\n",
              "      <td id=\"T_fb04f_row10_col0\" class=\"data row10 col0\" >Offer D</td>\n",
              "      <td id=\"T_fb04f_row10_col1\" class=\"data row10 col1\" >One Year</td>\n",
              "      <td id=\"T_fb04f_row10_col2\" class=\"data row10 col2\" >111</td>\n",
              "    </tr>\n",
              "    <tr>\n",
              "      <td id=\"T_fb04f_row11_col0\" class=\"data row11 col0\" >Offer D</td>\n",
              "      <td id=\"T_fb04f_row11_col1\" class=\"data row11 col1\" >Two Year</td>\n",
              "      <td id=\"T_fb04f_row11_col2\" class=\"data row11 col2\" >57</td>\n",
              "    </tr>\n",
              "    <tr>\n",
              "      <td id=\"T_fb04f_row12_col0\" class=\"data row12 col0\" >Offer E</td>\n",
              "      <td id=\"T_fb04f_row12_col1\" class=\"data row12 col1\" >Month-to-Month</td>\n",
              "      <td id=\"T_fb04f_row12_col2\" class=\"data row12 col2\" >722</td>\n",
              "    </tr>\n",
              "    <tr>\n",
              "      <td id=\"T_fb04f_row13_col0\" class=\"data row13 col0\" >Offer E</td>\n",
              "      <td id=\"T_fb04f_row13_col1\" class=\"data row13 col1\" >One Year</td>\n",
              "      <td id=\"T_fb04f_row13_col2\" class=\"data row13 col2\" >40</td>\n",
              "    </tr>\n",
              "    <tr>\n",
              "      <td id=\"T_fb04f_row14_col0\" class=\"data row14 col0\" >Offer E</td>\n",
              "      <td id=\"T_fb04f_row14_col1\" class=\"data row14 col1\" >Two Year</td>\n",
              "      <td id=\"T_fb04f_row14_col2\" class=\"data row14 col2\" >43</td>\n",
              "    </tr>\n",
              "    <tr>\n",
              "      <td id=\"T_fb04f_row15_col0\" class=\"data row15 col0\" >nan</td>\n",
              "      <td id=\"T_fb04f_row15_col1\" class=\"data row15 col1\" >Month-to-Month</td>\n",
              "      <td id=\"T_fb04f_row15_col2\" class=\"data row15 col2\" >2020</td>\n",
              "    </tr>\n",
              "    <tr>\n",
              "      <td id=\"T_fb04f_row16_col0\" class=\"data row16 col0\" >nan</td>\n",
              "      <td id=\"T_fb04f_row16_col1\" class=\"data row16 col1\" >One Year</td>\n",
              "      <td id=\"T_fb04f_row16_col2\" class=\"data row16 col2\" >842</td>\n",
              "    </tr>\n",
              "    <tr>\n",
              "      <td id=\"T_fb04f_row17_col0\" class=\"data row17 col0\" >nan</td>\n",
              "      <td id=\"T_fb04f_row17_col1\" class=\"data row17 col1\" >Two Year</td>\n",
              "      <td id=\"T_fb04f_row17_col2\" class=\"data row17 col2\" >1015</td>\n",
              "    </tr>\n",
              "  </tbody>\n",
              "</table>\n"
            ],
            "text/plain": [
              "<pandas.io.formats.style.Styler at 0x1d7fc4d9350>"
            ]
          },
          "metadata": {},
          "output_type": "display_data"
        }
      ],
      "source": [
        "SELECT offer, contract, COUNT(customer_id) AS total_customer\n",
        "FROM Telco_churn.telco_services\n",
        "GROUP BY offer, contract;"
      ]
    },
    {
      "cell_type": "markdown",
      "metadata": {
        "id": "ROIBM-E5Wlxc"
      },
      "source": [
        "#### <i><b><span style='color:#55679C'>Quest</span> : Tampilkan kolom offer & jenis contract dimana jumlah customernya paling besar (saja)!</b></i> (Dengan CTE)"
      ]
    },
    {
      "cell_type": "code",
      "execution_count": null,
      "metadata": {
        "id": "WLYhCbBvWlxd",
        "outputId": "527923ed-fe15-48df-a5de-f6e740284a23"
      },
      "outputs": [
        {
          "data": {
            "text/html": [
              "<style type=\"text/css\">\n",
              "</style>\n",
              "<table id=\"T_404ef\">\n",
              "  <thead>\n",
              "    <tr>\n",
              "      <th id=\"T_404ef_level0_col0\" class=\"col_heading level0 col0\" >offer</th>\n",
              "      <th id=\"T_404ef_level0_col1\" class=\"col_heading level0 col1\" >contract</th>\n",
              "      <th id=\"T_404ef_level0_col2\" class=\"col_heading level0 col2\" >total_customer</th>\n",
              "    </tr>\n",
              "  </thead>\n",
              "  <tbody>\n",
              "    <tr>\n",
              "      <td id=\"T_404ef_row0_col0\" class=\"data row0 col0\" >nan</td>\n",
              "      <td id=\"T_404ef_row0_col1\" class=\"data row0 col1\" >Month-to-Month</td>\n",
              "      <td id=\"T_404ef_row0_col2\" class=\"data row0 col2\" >2020</td>\n",
              "    </tr>\n",
              "  </tbody>\n",
              "</table>\n"
            ],
            "text/plain": [
              "<pandas.io.formats.style.Styler at 0x1d7ffd1d250>"
            ]
          },
          "metadata": {},
          "output_type": "display_data"
        }
      ],
      "source": [
        "WITH temp_offer AS (\n",
        "  SELECT offer,contract, COUNT(customer_id) AS total_customer\n",
        "  FROM Telco_churn.telco_services\n",
        "  GROUP BY offer, contract)\n",
        "\n",
        "  SELECT * FROM temp_offer\n",
        "  WHERE total_customer = (SELECT MAX(total_customer) FROM temp_offer)"
      ]
    },
    {
      "cell_type": "markdown",
      "metadata": {
        "id": "opPk65ayWlxd"
      },
      "source": [
        "#### <i><b><span style='color:#55679C'>Quest</span> : Tampilkan customer_id, gender, age, tenure_in_month, total_revenue dan status dengan status = 'Churned' dan internet_type-nya = 'Fiber Optic'! (Terapkan CTE untuk mengoptimasi query ini)!</b></i>"
      ]
    },
    {
      "cell_type": "code",
      "source": [
        "#WITH temp_offer AS (\n",
        "  #SELECT offer,contract, COUNT(customer_id) AS total_customer\n",
        "  #FROM telco_churn.telco_services\n",
        "  #GROUP BY offer, contract)\n",
        "\n",
        "  #SELECT * FROM temp_offer\n",
        "  #WHERE total_customer = (SELECT MAX(total_customer) FROM temp_offer)\n",
        "\n",
        "#WITH ChurnedCustomers AS (\n",
        "    #SELECT customer_id\n",
        "    #FROM telco_churn.telco_services\n",
        "    #WHERE internet_type = 'Fiber Optic'\n",
        "#)\n",
        "#SELECT\n",
        "    #cd.customer_id,\n",
        "    #cd.gender,\n",
        "    #cd.age,\n",
        "    #ts.tenure_in_months,\n",
        "    #ts.total_revenue,\n",
        "    #cs.status\n",
        "#FROM\n",
        "    #telco_churn.customer_demography cd\n",
        "#JOIN\n",
        "    #telco_churn.customer_status cs ON cd.customer_id = cs.customer_id\n",
        "#JOIN\n",
        "    #telco_churn.telco_services ts ON cd.customer_id = ts.customer_id\n",
        "#WHERE\n",
        "    #cs.status = 'Churned'\n",
        "    #AND cd.customer_id IN (SELECT customer_id FROM ChurnedCustomers);"
      ],
      "metadata": {
        "id": "STfU1dKV74G6"
      },
      "execution_count": null,
      "outputs": []
    }
  ],
  "metadata": {
    "kernelspec": {
      "display_name": "Python 3",
      "language": "python",
      "name": "python3"
    },
    "language_info": {
      "codemirror_mode": {
        "name": "ipython",
        "version": 3
      },
      "file_extension": ".py",
      "mimetype": "text/x-python",
      "name": "python",
      "nbconvert_exporter": "python",
      "pygments_lexer": "ipython3",
      "version": "3.11.3"
    },
    "colab": {
      "provenance": [],
      "include_colab_link": true
    }
  },
  "nbformat": 4,
  "nbformat_minor": 0
}